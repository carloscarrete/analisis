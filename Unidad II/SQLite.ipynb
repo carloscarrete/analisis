{
 "cells": [
  {
   "cell_type": "markdown",
   "metadata": {},
   "source": [
    "![](itd.png)\n",
    "\n",
    "    \n",
    "# Análisis de Datos Masivos\n",
    "## Base de Datos SQLite\n",
    "\n",
    "## Nombre del docente\n",
    "### José Gabriel Rodriguez Rivas\n",
    "## Nombre del alumno\n",
    "### Calos Alberto Carrete Gómez"
   ]
  },
  {
   "cell_type": "code",
   "execution_count": 2,
   "metadata": {},
   "outputs": [],
   "source": [
    "import sqlite3\n",
    "import pandas as pd\n",
    "from matplotlib import pyplot as plt \n",
    "%matplotlib inline"
   ]
  },
  {
   "cell_type": "code",
   "execution_count": 5,
   "metadata": {},
   "outputs": [],
   "source": [
    "conn = sqlite3.connect('./DB/phonebook.db')"
   ]
  },
  {
   "cell_type": "code",
   "execution_count": 6,
   "metadata": {},
   "outputs": [
    {
     "data": {
      "text/plain": [
       "<sqlite3.Cursor at 0x7f9a838c6110>"
      ]
     },
     "execution_count": 6,
     "metadata": {},
     "output_type": "execute_result"
    }
   ],
   "source": [
    "conn.cursor()"
   ]
  },
  {
   "cell_type": "code",
   "execution_count": 7,
   "metadata": {},
   "outputs": [],
   "source": [
    "cur = conn.cursor()"
   ]
  },
  {
   "cell_type": "code",
   "execution_count": 10,
   "metadata": {},
   "outputs": [
    {
     "data": {
      "text/plain": [
       "<sqlite3.Cursor at 0x7f9a838c6a40>"
      ]
     },
     "execution_count": 10,
     "metadata": {},
     "output_type": "execute_result"
    }
   ],
   "source": [
    "query = \"SELECT name FROM coworkers;\"\n",
    "cur.execute(query)"
   ]
  },
  {
   "cell_type": "code",
   "execution_count": 11,
   "metadata": {},
   "outputs": [
    {
     "name": "stdout",
     "output_type": "stream",
     "text": [
      "('Han Solo',)\n",
      "('Leia Skywalker',)\n",
      "('Luke Skywalker',)\n",
      "('Obi-Wan Kenobi',)\n",
      "('Anakin Skywalker',)\n",
      "('Jabba The Hutt',)\n",
      "('Greedo',)\n",
      "('R2D2',)\n",
      "('C3PO',)\n"
     ]
    }
   ],
   "source": [
    "for row in cur:\n",
    "    print(row)"
   ]
  },
  {
   "cell_type": "markdown",
   "metadata": {},
   "source": [
    "**1) Proporcione el código para consultar los nombres de todas las princesas.**\n"
   ]
  },
  {
   "cell_type": "code",
   "execution_count": 13,
   "metadata": {},
   "outputs": [
    {
     "name": "stdout",
     "output_type": "stream",
     "text": [
      "('Leia Skywalker',)\n"
     ]
    }
   ],
   "source": [
    "query = \"SELECT name FROM coworkers where title='Princess';\"\n",
    "cur.execute(query)\n",
    "for row in cur:\n",
    "    print(row)"
   ]
  },
  {
   "cell_type": "markdown",
   "metadata": {},
   "source": [
    "**2) Proporcione el código para consultar los nombres de todas las princesas y los recaudadores.**"
   ]
  },
  {
   "cell_type": "code",
   "execution_count": 14,
   "metadata": {},
   "outputs": [
    {
     "name": "stdout",
     "output_type": "stream",
     "text": [
      "('Leia Skywalker',)\n",
      "('Greedo',)\n"
     ]
    }
   ],
   "source": [
    "query = \"SELECT name FROM coworkers where title='Princess' or title='Debt Collector';\"\n",
    "cur.execute(query)\n",
    "for row in cur:\n",
    "    print(row)"
   ]
  },
  {
   "cell_type": "markdown",
   "metadata": {},
   "source": [
    "**3) Proporcione el código para consultar los nombres y los números de todos los Jedi.**\n"
   ]
  },
  {
   "cell_type": "code",
   "execution_count": 15,
   "metadata": {
    "scrolled": true
   },
   "outputs": [
    {
     "name": "stdout",
     "output_type": "stream",
     "text": [
      "('Luke Skywalker', 5558963267)\n",
      "('Obi-Wan Kenobi', 5558963276)\n"
     ]
    }
   ],
   "source": [
    "query = \"SELECT name, number FROM coworkers where title='Jedi';\"\n",
    "cur.execute(query)\n",
    "for row in cur:\n",
    "    print(row)"
   ]
  },
  {
   "cell_type": "markdown",
   "metadata": {},
   "source": [
    "\n",
    "\n",
    "**4) Proporcione el código para consultar los nombres de los droids.**\n"
   ]
  },
  {
   "cell_type": "code",
   "execution_count": 18,
   "metadata": {},
   "outputs": [
    {
     "name": "stdout",
     "output_type": "stream",
     "text": [
      "('C3PO',)\n"
     ]
    }
   ],
   "source": [
    "query = \"SELECT name FROM coworkers where title='Protocol Droid';\"\n",
    "cur.execute(query)\n",
    "for row in cur:\n",
    "    print(row)"
   ]
  }
 ],
 "metadata": {
  "kernelspec": {
   "display_name": "Python 3",
   "language": "python",
   "name": "python3"
  },
  "language_info": {
   "codemirror_mode": {
    "name": "ipython",
    "version": 3
   },
   "file_extension": ".py",
   "mimetype": "text/x-python",
   "name": "python",
   "nbconvert_exporter": "python",
   "pygments_lexer": "ipython3",
   "version": "3.7.6"
  }
 },
 "nbformat": 4,
 "nbformat_minor": 4
}
